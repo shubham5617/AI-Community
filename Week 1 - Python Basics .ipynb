{
 "cells": [
  {
   "cell_type": "markdown",
   "metadata": {
    "_cell_guid": "b1076dfc-b9ad-4769-8c92-a6c4dae69d19",
    "_uuid": "8f2839f25d086af736a60e9eeb907d3b93b6e0e5",
    "execution": {
     "iopub.execute_input": "2024-08-04T21:06:34.737808Z",
     "iopub.status.busy": "2024-08-04T21:06:34.736912Z",
     "iopub.status.idle": "2024-08-04T21:06:37.510342Z",
     "shell.execute_reply": "2024-08-04T21:06:37.508874Z",
     "shell.execute_reply.started": "2024-08-04T21:06:34.737766Z"
    }
   },
   "source": [
    "## AI Bootcamp:\n",
    "\n",
    "## Week 1 - Python Basics:\n",
    "\n",
    "### 1. To find the Sum of Natural Numbers ( 0 to 10 ):"
   ]
  },
  {
   "cell_type": "code",
   "execution_count": 2,
   "metadata": {
    "execution": {
     "iopub.execute_input": "2024-08-04T21:22:30.376628Z",
     "iopub.status.busy": "2024-08-04T21:22:30.376181Z",
     "iopub.status.idle": "2024-08-04T21:22:42.379895Z",
     "shell.execute_reply": "2024-08-04T21:22:42.378763Z",
     "shell.execute_reply.started": "2024-08-04T21:22:30.376595Z"
    }
   },
   "outputs": [
    {
     "name": "stdout",
     "output_type": "stream",
     "text": [
      "enter the range number:10\n",
      "Sum of n number : 55\n"
     ]
    }
   ],
   "source": [
    "n = int(input(\"enter the range number:\"))\n",
    "sum = 0\n",
    "for s in range(0,n+1):\n",
    "    sum = sum + s\n",
    "print(\"Sum of n number :\",sum)"
   ]
  },
  {
   "cell_type": "markdown",
   "metadata": {},
   "source": [
    "### 2. To find the count of number :"
   ]
  },
  {
   "cell_type": "code",
   "execution_count": 3,
   "metadata": {
    "execution": {
     "iopub.execute_input": "2024-08-04T21:07:10.177009Z",
     "iopub.status.busy": "2024-08-04T21:07:10.176612Z",
     "iopub.status.idle": "2024-08-04T21:07:13.699019Z",
     "shell.execute_reply": "2024-08-04T21:07:13.697838Z",
     "shell.execute_reply.started": "2024-08-04T21:07:10.176979Z"
    }
   },
   "outputs": [
    {
     "name": "stdout",
     "output_type": "stream",
     "text": [
      "enter the number :22\n",
      "counts of number : 2\n"
     ]
    }
   ],
   "source": [
    "s = input(\"enter the number :\")\n",
    "print(\"counts of number :\",len(s))"
   ]
  },
  {
   "cell_type": "markdown",
   "metadata": {},
   "source": [
    "### 3. To check for Palindrome:"
   ]
  },
  {
   "cell_type": "code",
   "execution_count": 5,
   "metadata": {
    "execution": {
     "iopub.execute_input": "2024-08-04T21:10:59.457091Z",
     "iopub.status.busy": "2024-08-04T21:10:59.456663Z",
     "iopub.status.idle": "2024-08-04T21:11:02.979095Z",
     "shell.execute_reply": "2024-08-04T21:11:02.977994Z",
     "shell.execute_reply.started": "2024-08-04T21:10:59.457060Z"
    }
   },
   "outputs": [
    {
     "name": "stdout",
     "output_type": "stream",
     "text": [
      "enter the number :29\n",
      "no\n"
     ]
    }
   ],
   "source": [
    "s = input(\"enter the number :\")\n",
    "if s == s[::-1]:\n",
    "    print(\"yes\")\n",
    "else:\n",
    "    print(\"no\")\n"
   ]
  },
  {
   "cell_type": "markdown",
   "metadata": {},
   "source": [
    "### 4. To find the Factorial of a number :"
   ]
  },
  {
   "cell_type": "code",
   "execution_count": 7,
   "metadata": {
    "execution": {
     "iopub.execute_input": "2024-08-04T21:17:22.697306Z",
     "iopub.status.busy": "2024-08-04T21:17:22.696905Z",
     "iopub.status.idle": "2024-08-04T21:17:24.434495Z",
     "shell.execute_reply": "2024-08-04T21:17:24.433137Z",
     "shell.execute_reply.started": "2024-08-04T21:17:22.697275Z"
    }
   },
   "outputs": [
    {
     "name": "stdout",
     "output_type": "stream",
     "text": [
      "enter the number :29\n",
      "factorial of number 8841761993739701954543616000000\n"
     ]
    }
   ],
   "source": [
    "s = int(input(\"enter the number :\"))\n",
    "def fact(s):\n",
    "    if s == 1 or s == 0:\n",
    "        return 1\n",
    "    else:\n",
    "        return s*fact(s-1)\n",
    "    \n",
    "print(\"factorial of number\",fact(s))\n"
   ]
  }
 ],
 "metadata": {
  "kaggle": {
   "accelerator": "none",
   "dataSources": [],
   "dockerImageVersionId": 30746,
   "isGpuEnabled": false,
   "isInternetEnabled": true,
   "language": "python",
   "sourceType": "notebook"
  },
  "kernelspec": {
   "display_name": "Python 3 (ipykernel)",
   "language": "python",
   "name": "python3"
  },
  "language_info": {
   "codemirror_mode": {
    "name": "ipython",
    "version": 3
   },
   "file_extension": ".py",
   "mimetype": "text/x-python",
   "name": "python",
   "nbconvert_exporter": "python",
   "pygments_lexer": "ipython3",
   "version": "3.11.5"
  }
 },
 "nbformat": 4,
 "nbformat_minor": 4
}
